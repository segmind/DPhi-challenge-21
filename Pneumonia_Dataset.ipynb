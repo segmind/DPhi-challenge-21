{
  "nbformat": 4,
  "nbformat_minor": 0,
  "metadata": {
    "colab": {
      "name": "Starter Notebook: Pneumonia Dataset.ipynb",
      "provenance": [],
      "collapsed_sections": []
    },
    "kernelspec": {
      "name": "python3",
      "display_name": "Python 3"
    },
    "accelerator": "GPU"
  },
  "cells": [
    {
      "cell_type": "markdown",
      "metadata": {
        "id": "M1H8q8USSAiH"
      },
      "source": [
        "![dphi banner](https://dphi-courses.s3.ap-south-1.amazonaws.com/Datathons/dphi_banner.png)"
      ]
    },
    {
      "cell_type": "markdown",
      "metadata": {
        "id": "-3yyd7b9h2dh"
      },
      "source": [
        "# **Getting Started Code For [Pneumonia Classification in CXRs](https://dphi.tech/challenges/pneumonia-classification-in-cxrs/76/overview/about) on DPhi**"
      ]
    },
    {
      "cell_type": "markdown",
      "metadata": {
        "id": "SfMK5FEhUGde"
      },
      "source": [
        "## Download the images\n",
        "We are given google drive link in the '[Data](https://dphi.tech/challenges/pneumonia-classification-in-cxrs/76/data)' section of problem page which has all the required train images (to build the model) and test images to predict the label of these images and submit the predictions on the [DPhi platform](https://dphi.tech/challenges/pneumonia-classification-in-cxrs/76/submit).\n",
        "\n",
        "We can use **GoogleDriveDownloader** form **google_drive_downloader** library in Python to download the shared files from the shared Google drive link: https://drive.google.com/file/d/1d_93d9oFNRBK9Vg6BRxs9wvRbKtNTylY/view?usp=sharing\n",
        "\n",
        "The file id in the above link is: **1d_93d9oFNRBK9Vg6BRxs9wvRbKtNTylY**"
      ]
    },
    {
      "cell_type": "code",
      "metadata": {
        "id": "5_1BysB4Re7f",
        "colab": {
          "base_uri": "https://localhost:8080/"
        },
        "outputId": "5ae66fb4-2f37-4fc2-9386-3fda2c016edb"
      },
      "source": [
        "from google_drive_downloader import GoogleDriveDownloader as gdd\n",
        "\n",
        "gdd.download_file_from_google_drive(file_id='1d_93d9oFNRBK9Vg6BRxs9wvRbKtNTylY',\n",
        "                                    dest_path='content/pneumonia_dataset.zip',\n",
        "                                    unzip=True)"
      ],
      "execution_count": null,
      "outputs": [
        {
          "output_type": "stream",
          "text": [
            "Downloading 1d_93d9oFNRBK9Vg6BRxs9wvRbKtNTylY into content/pneumonia_dataset.zip... Done.\n",
            "Unzipping...Done.\n"
          ],
          "name": "stdout"
        }
      ]
    },
    {
      "cell_type": "markdown",
      "metadata": {
        "id": "SM_FDQgXbh_-"
      },
      "source": [
        "We have all the files from the shared Google drive link downloaded in the colab environment."
      ]
    },
    {
      "cell_type": "markdown",
      "metadata": {
        "id": "wsIqjb7Ebs3B"
      },
      "source": [
        "## Loading Libraries\n",
        "All Python capabilities are not loaded to our working environment by default (even they are already installed in your system). So, we import each and every library that we want to use.\n",
        "\n",
        "We chose alias names for our libraries for the sake of our convenience (numpy --> np and pandas --> pd, tensorlow --> tf).\n",
        "\n",
        "Note: You can import all the libraries that you think will be required or can import it as you go along."
      ]
    },
    {
      "cell_type": "code",
      "metadata": {
        "id": "BIe16kmoUmhr"
      },
      "source": [
        "import pandas as pd                                     # Data analysis and manipultion tool\n",
        "import numpy as np                                      # Fundamental package for linear algebra and multidimensional arrays\n",
        "import tensorflow as tf                                 # Deep Learning Tool\n",
        "import os                                               # OS module in Python provides a way of using operating system dependent functionality\n",
        "import cv2                                              # Library for image processing\n",
        "from sklearn.model_selection import train_test_split    # For splitting the data into train and validation set\n",
        "from sklearn.metrics import accuracy_score\n",
        "from keras.layers.normalization import BatchNormalization"
      ],
      "execution_count": null,
      "outputs": []
    },
    {
      "cell_type": "markdown",
      "metadata": {
        "id": "IAXqCpedduVx"
      },
      "source": [
        "## Loading and preparing training data\n",
        "The train and test images are given in two different folders - 'train' and 'test'."
      ]
    },
    {
      "cell_type": "code",
      "metadata": {
        "id": "vMXmX8g3dflK"
      },
      "source": [
        "data=[]\n",
        "img_size = 100\n",
        "def create_data():\n",
        "        for item in ['normal','pneumonia']:\n",
        "            path='/content/content/pneumonia_dataset/train/' + item+\"/\"\n",
        "            \n",
        "            for img in os.listdir(path):         # os.listdir gets you all the list of name of files located in the given path\n",
        "                try:\n",
        "                    img_array=cv2.imread(os.path.join(path,img),cv2.IMREAD_GRAYSCALE)    # converts the image to pixels and gray scales the images\n",
        "                    new_img_array=cv2.resize(img_array,(img_size,img_size))\n",
        "                    # print(img_array)\n",
        "                    if item == 'normal':\n",
        "                        data.append([new_img_array,0])\n",
        "                    else:\n",
        "                        data.append([new_img_array, 1]) # appending the list of image pixels and respective target value in data\n",
        "                except Exception as e:\n",
        "                    pass                                      # try and except is exception handling case in python, saves you from getting errors\n",
        "                \n",
        "            \n",
        "create_data()"
      ],
      "execution_count": null,
      "outputs": []
    },
    {
      "cell_type": "code",
      "metadata": {
        "colab": {
          "base_uri": "https://localhost:8080/"
        },
        "id": "nZlpwqogcWoM",
        "outputId": "33d89c04-dfee-4cfe-ba3c-eec0029796e0"
      },
      "source": [
        "len(data)"
      ],
      "execution_count": null,
      "outputs": [
        {
          "output_type": "execute_result",
          "data": {
            "text/plain": [
              "2425"
            ]
          },
          "metadata": {
            "tags": []
          },
          "execution_count": 4
        }
      ]
    },
    {
      "cell_type": "code",
      "metadata": {
        "id": "LOpf3gvXwbT5",
        "colab": {
          "base_uri": "https://localhost:8080/"
        },
        "outputId": "f36db12c-c19a-464f-b5d3-3ffec28a8ac6"
      },
      "source": [
        "# image pixels of a image\n",
        "data[2]"
      ],
      "execution_count": null,
      "outputs": [
        {
          "output_type": "execute_result",
          "data": {
            "text/plain": [
              "[array([[  0,   0,   0, ...,   0,   0,   0],\n",
              "        [  0,   0,   0, ...,  68,  25,  19],\n",
              "        [  0,   0,   0, ...,  52,  34,  29],\n",
              "        ...,\n",
              "        [  0,   0,   0, ..., 114,  65,  17],\n",
              "        [  0,   0,   0, ..., 134,  66,  19],\n",
              "        [  0,   0,   0, ..., 133,  69,  20]], dtype=uint8), 0]"
            ]
          },
          "metadata": {
            "tags": []
          },
          "execution_count": 5
        }
      ]
    },
    {
      "cell_type": "markdown",
      "metadata": {
        "id": "T6A7CNrU196Q"
      },
      "source": [
        "#### Shuffle the data"
      ]
    },
    {
      "cell_type": "code",
      "metadata": {
        "id": "XDs6fWy92qEq"
      },
      "source": [
        "np.random.shuffle(data)"
      ],
      "execution_count": null,
      "outputs": []
    },
    {
      "cell_type": "markdown",
      "metadata": {
        "id": "YFMN0ZkA5H-F"
      },
      "source": [
        "#### Separating the images and labels\n"
      ]
    },
    {
      "cell_type": "code",
      "metadata": {
        "id": "2KoW9Pfq5NiB"
      },
      "source": [
        "x = []\n",
        "y = []\n",
        "for image in data:\n",
        "  x.append(image[0])\n",
        "  y.append(image[1])\n",
        "\n",
        "# converting x & y to numpy array as they are list\n",
        "x = np.array(x)\n",
        "y = np.array(y)"
      ],
      "execution_count": null,
      "outputs": []
    },
    {
      "cell_type": "code",
      "metadata": {
        "id": "t39WpMhaepOg",
        "colab": {
          "base_uri": "https://localhost:8080/"
        },
        "outputId": "bbf6a8ba-9943-4a8c-892b-af6ffe355f6a"
      },
      "source": [
        "np.unique(y, return_counts=True)"
      ],
      "execution_count": null,
      "outputs": [
        {
          "output_type": "execute_result",
          "data": {
            "text/plain": [
              "(array([0, 1]), array([1280, 1145]))"
            ]
          },
          "metadata": {
            "tags": []
          },
          "execution_count": 8
        }
      ]
    },
    {
      "cell_type": "markdown",
      "metadata": {
        "id": "OeuKjzVg7NSb"
      },
      "source": [
        "#### Splitting the data into Train and Validation Set\n",
        "We want to check the performance of the model that we built. For this purpose, we always split (both independent and dependent data) the given data into training set which will be used to train the model, and test set which will be used to check how accurately the model is predicting outcomes.\n",
        "\n",
        "For this purpose we have a class called 'train_test_split' in the 'sklearn.model_selection' module."
      ]
    },
    {
      "cell_type": "code",
      "metadata": {
        "id": "_H9hUb5i68F5"
      },
      "source": [
        "x =  x.reshape(-1, 100, 100, 1)"
      ],
      "execution_count": null,
      "outputs": []
    },
    {
      "cell_type": "code",
      "metadata": {
        "id": "mBtGJmZj55SE"
      },
      "source": [
        "# split the data\n",
        "X_train, X_val, y_train, y_val = train_test_split(x,y,test_size=0.3, random_state = 42)"
      ],
      "execution_count": null,
      "outputs": []
    },
    {
      "cell_type": "code",
      "metadata": {
        "colab": {
          "base_uri": "https://localhost:8080/"
        },
        "id": "9NdGUQ8yqkNt",
        "outputId": "6e4d9521-1eea-49bf-a4b6-2296a824eeec"
      },
      "source": [
        "X_train.shape"
      ],
      "execution_count": null,
      "outputs": [
        {
          "output_type": "execute_result",
          "data": {
            "text/plain": [
              "(1697, 100, 100, 1)"
            ]
          },
          "metadata": {
            "tags": []
          },
          "execution_count": 11
        }
      ]
    },
    {
      "cell_type": "code",
      "metadata": {
        "id": "ZptoijPHx2us"
      },
      "source": [
        "X_train =  X_train.reshape(-1, 100, 100, 1)"
      ],
      "execution_count": null,
      "outputs": []
    },
    {
      "cell_type": "code",
      "metadata": {
        "colab": {
          "base_uri": "https://localhost:8080/"
        },
        "id": "-obypaehyMl7",
        "outputId": "9acbe01a-b07c-425b-d8d0-d830a1a83981"
      },
      "source": [
        "X_train.shape"
      ],
      "execution_count": null,
      "outputs": [
        {
          "output_type": "execute_result",
          "data": {
            "text/plain": [
              "(1697, 100, 100, 1)"
            ]
          },
          "metadata": {
            "tags": []
          },
          "execution_count": 13
        }
      ]
    },
    {
      "cell_type": "code",
      "metadata": {
        "colab": {
          "base_uri": "https://localhost:8080/"
        },
        "id": "UedIScRxOrP8",
        "outputId": "8ba6654e-5716-48d5-8bee-3a41e15cb667"
      },
      "source": [
        "X_train[0]"
      ],
      "execution_count": null,
      "outputs": [
        {
          "output_type": "execute_result",
          "data": {
            "text/plain": [
              "array([[[173],\n",
              "        [ 52],\n",
              "        [  7],\n",
              "        ...,\n",
              "        [ 11],\n",
              "        [ 12],\n",
              "        [ 13]],\n",
              "\n",
              "       [[ 80],\n",
              "        [  7],\n",
              "        [  0],\n",
              "        ...,\n",
              "        [  3],\n",
              "        [  3],\n",
              "        [  3]],\n",
              "\n",
              "       [[ 79],\n",
              "        [  5],\n",
              "        [  0],\n",
              "        ...,\n",
              "        [  3],\n",
              "        [  3],\n",
              "        [  3]],\n",
              "\n",
              "       ...,\n",
              "\n",
              "       [[ 29],\n",
              "        [  0],\n",
              "        [  0],\n",
              "        ...,\n",
              "        [  0],\n",
              "        [  0],\n",
              "        [  0]],\n",
              "\n",
              "       [[ 32],\n",
              "        [  1],\n",
              "        [  0],\n",
              "        ...,\n",
              "        [  0],\n",
              "        [  0],\n",
              "        [  0]],\n",
              "\n",
              "       [[ 42],\n",
              "        [  6],\n",
              "        [  0],\n",
              "        ...,\n",
              "        [  0],\n",
              "        [  0],\n",
              "        [  1]]], dtype=uint8)"
            ]
          },
          "metadata": {
            "tags": []
          },
          "execution_count": 14
        }
      ]
    },
    {
      "cell_type": "markdown",
      "metadata": {
        "id": "cDCZ53yE7340"
      },
      "source": [
        "## Building Model\n",
        "Now we are finally ready, and we can train the model.\n",
        "\n",
        "There are many machine learning or deep learning models like Random Forest, Decision Tree, Multi-Layer Perceptron (MLP), Convolution Neural Network (CNN), etc. to say you some.\n",
        "\n",
        "\n",
        "Then we would feed the model both with the data (X_train) and the answers for that data (y_train)"
      ]
    },
    {
      "cell_type": "code",
      "metadata": {
        "id": "6cGaxe8AptFj"
      },
      "source": [
        "cnn = tf.keras.models.Sequential([\n",
        "    tf.keras.layers.Conv2D(filters=32, kernel_size=(3, 3), activation='relu', input_shape=(100, 100, 1)),\n",
        "    tf.keras.layers.MaxPooling2D((2, 2)),\n",
        "    \n",
        "    tf.keras.layers.Conv2D(filters=64, kernel_size=(3, 3), activation='relu'),\n",
        "    tf.keras.layers.MaxPooling2D((2, 2)),\n",
        "    \n",
        "    # tf.keras.layers.Flatten(input_shape=(100, 100, 1)),\n",
        "    tf.keras.layers.Flatten(),\n",
        "    tf.keras.layers.Dense(64, activation='relu'),\n",
        "    tf.keras.layers.Dense(1, activation='sigmoid')\n",
        "])"
      ],
      "execution_count": null,
      "outputs": []
    },
    {
      "cell_type": "code",
      "metadata": {
        "id": "-Vzg17FTs5bs"
      },
      "source": [
        "cnn.compile(optimizer='adam',\n",
        "              loss='binary_crossentropy',\n",
        "              metrics=['accuracy'])"
      ],
      "execution_count": null,
      "outputs": []
    },
    {
      "cell_type": "code",
      "metadata": {
        "colab": {
          "base_uri": "https://localhost:8080/"
        },
        "id": "3EUMrKjitCt-",
        "outputId": "277d5b14-27d6-4f41-8161-7829d40196ca"
      },
      "source": [
        "cnn.fit(X_train, y_train, epochs=10)"
      ],
      "execution_count": null,
      "outputs": [
        {
          "output_type": "stream",
          "text": [
            "Epoch 1/10\n",
            "54/54 [==============================] - 1s 11ms/step - loss: 30.1966 - accuracy: 0.5282\n",
            "Epoch 2/10\n",
            "54/54 [==============================] - 1s 10ms/step - loss: 0.6461 - accuracy: 0.6057\n",
            "Epoch 3/10\n",
            "54/54 [==============================] - 1s 10ms/step - loss: 0.5403 - accuracy: 0.7305\n",
            "Epoch 4/10\n",
            "54/54 [==============================] - 1s 10ms/step - loss: 0.4620 - accuracy: 0.7935\n",
            "Epoch 5/10\n",
            "54/54 [==============================] - 1s 10ms/step - loss: 0.3798 - accuracy: 0.8309\n",
            "Epoch 6/10\n",
            "54/54 [==============================] - 1s 10ms/step - loss: 0.3230 - accuracy: 0.8632\n",
            "Epoch 7/10\n",
            "54/54 [==============================] - 1s 10ms/step - loss: 0.2562 - accuracy: 0.8952\n",
            "Epoch 8/10\n",
            "54/54 [==============================] - 1s 10ms/step - loss: 0.2047 - accuracy: 0.9171\n",
            "Epoch 9/10\n",
            "54/54 [==============================] - 1s 10ms/step - loss: 0.1562 - accuracy: 0.9509\n",
            "Epoch 10/10\n",
            "54/54 [==============================] - 1s 10ms/step - loss: 0.1242 - accuracy: 0.9557\n"
          ],
          "name": "stdout"
        },
        {
          "output_type": "execute_result",
          "data": {
            "text/plain": [
              "<tensorflow.python.keras.callbacks.History at 0x7f51a20d0710>"
            ]
          },
          "metadata": {
            "tags": []
          },
          "execution_count": 52
        }
      ]
    },
    {
      "cell_type": "markdown",
      "metadata": {
        "id": "tc3lSJ2a-OYt"
      },
      "source": [
        "## Validate the model\n",
        "Wonder🤔 how well your model learned! Lets check its performance on the X_val data."
      ]
    },
    {
      "cell_type": "code",
      "metadata": {
        "id": "A5yuD1jD65Cm"
      },
      "source": [
        ""
      ],
      "execution_count": null,
      "outputs": []
    },
    {
      "cell_type": "code",
      "metadata": {
        "id": "Fm9ShaEE9P5j",
        "colab": {
          "base_uri": "https://localhost:8080/"
        },
        "outputId": "0ab932ab-505e-42a1-924f-f76bfb3581d0"
      },
      "source": [
        "cnn.evaluate(X_val, y_val)"
      ],
      "execution_count": null,
      "outputs": [
        {
          "output_type": "stream",
          "text": [
            "23/23 [==============================] - 0s 5ms/step - loss: 1.4499 - accuracy: 0.6168\n"
          ],
          "name": "stdout"
        },
        {
          "output_type": "execute_result",
          "data": {
            "text/plain": [
              "[1.449948787689209, 0.6167582273483276]"
            ]
          },
          "metadata": {
            "tags": []
          },
          "execution_count": 53
        }
      ]
    },
    {
      "cell_type": "markdown",
      "metadata": {
        "id": "kLrpm-If-lRT"
      },
      "source": [
        "## Predict The Output For Testing Dataset 😅\n",
        "We have trained our model, evaluated it and now finally we will predict the output/target for the testing data."
      ]
    },
    {
      "cell_type": "markdown",
      "metadata": {
        "id": "nG70J6Un-s2G"
      },
      "source": [
        "#### Load Test Set\n",
        "Load the test data on which final submission is to be made."
      ]
    },
    {
      "cell_type": "code",
      "metadata": {
        "id": "iji8OaFF-fSp",
        "colab": {
          "base_uri": "https://localhost:8080/",
          "height": 195
        },
        "outputId": "2c1f15c1-a6ed-4a1f-f56a-897c579d4800"
      },
      "source": [
        "# Loading the order of the image's name that has been provided\n",
        "test_image_order = pd.read_csv(\"/content/content/pneumonia_dataset/test.csv\")\n",
        "test_image_order.head()"
      ],
      "execution_count": null,
      "outputs": [
        {
          "output_type": "execute_result",
          "data": {
            "text/html": [
              "<div>\n",
              "<style scoped>\n",
              "    .dataframe tbody tr th:only-of-type {\n",
              "        vertical-align: middle;\n",
              "    }\n",
              "\n",
              "    .dataframe tbody tr th {\n",
              "        vertical-align: top;\n",
              "    }\n",
              "\n",
              "    .dataframe thead th {\n",
              "        text-align: right;\n",
              "    }\n",
              "</style>\n",
              "<table border=\"1\" class=\"dataframe\">\n",
              "  <thead>\n",
              "    <tr style=\"text-align: right;\">\n",
              "      <th></th>\n",
              "      <th>filename</th>\n",
              "    </tr>\n",
              "  </thead>\n",
              "  <tbody>\n",
              "    <tr>\n",
              "      <th>0</th>\n",
              "      <td>CXR_test_519.png</td>\n",
              "    </tr>\n",
              "    <tr>\n",
              "      <th>1</th>\n",
              "      <td>CXR_test_578.png</td>\n",
              "    </tr>\n",
              "    <tr>\n",
              "      <th>2</th>\n",
              "      <td>CXR_test_359.png</td>\n",
              "    </tr>\n",
              "    <tr>\n",
              "      <th>3</th>\n",
              "      <td>CXR_test_573.png</td>\n",
              "    </tr>\n",
              "    <tr>\n",
              "      <th>4</th>\n",
              "      <td>CXR_test_471.png</td>\n",
              "    </tr>\n",
              "  </tbody>\n",
              "</table>\n",
              "</div>"
            ],
            "text/plain": [
              "           filename\n",
              "0  CXR_test_519.png\n",
              "1  CXR_test_578.png\n",
              "2  CXR_test_359.png\n",
              "3  CXR_test_573.png\n",
              "4  CXR_test_471.png"
            ]
          },
          "metadata": {
            "tags": []
          },
          "execution_count": 54
        }
      ]
    },
    {
      "cell_type": "markdown",
      "metadata": {
        "id": "XhszUWXEAABu"
      },
      "source": [
        "#### Getting images file path"
      ]
    },
    {
      "cell_type": "code",
      "metadata": {
        "id": "657fCek3_IhD"
      },
      "source": [
        "file_paths = [[fname, '/content/content/pneumonia_dataset/test/' + fname] for fname in test_image_order['filename']]"
      ],
      "execution_count": null,
      "outputs": []
    },
    {
      "cell_type": "markdown",
      "metadata": {
        "id": "xmrgyltpALYg"
      },
      "source": [
        "#### Confirm if number of images in test folder is same as number of image names in 'Testing_set_face_mask.csv'"
      ]
    },
    {
      "cell_type": "code",
      "metadata": {
        "id": "telGIa0JADdO",
        "colab": {
          "base_uri": "https://localhost:8080/"
        },
        "outputId": "32ef0c3b-ebc1-427d-f098-7b79a6c10a07"
      },
      "source": [
        "# Confirm if number of images is same as number of labels given\n",
        "if len(test_image_order) == len(file_paths):\n",
        "    print('Number of image names i.e. ', len(test_image_order), 'matches the number of file paths i.e. ', len(file_paths))\n",
        "else:\n",
        "    print('Number of image names does not match the number of filepaths')"
      ],
      "execution_count": null,
      "outputs": [
        {
          "output_type": "stream",
          "text": [
            "Number of image names i.e.  606 matches the number of file paths i.e.  606\n"
          ],
          "name": "stdout"
        }
      ]
    },
    {
      "cell_type": "markdown",
      "metadata": {
        "id": "Wsa94YfqBInJ"
      },
      "source": [
        "#### Converting the file_paths to dataframe"
      ]
    },
    {
      "cell_type": "code",
      "metadata": {
        "id": "3nH9rUnQBSnf",
        "colab": {
          "base_uri": "https://localhost:8080/",
          "height": 195
        },
        "outputId": "3feec869-5495-4380-ba06-2639decd001e"
      },
      "source": [
        "test_images = pd.DataFrame(file_paths, columns=['filename', 'filepaths'])\n",
        "test_images.head()"
      ],
      "execution_count": null,
      "outputs": [
        {
          "output_type": "execute_result",
          "data": {
            "text/html": [
              "<div>\n",
              "<style scoped>\n",
              "    .dataframe tbody tr th:only-of-type {\n",
              "        vertical-align: middle;\n",
              "    }\n",
              "\n",
              "    .dataframe tbody tr th {\n",
              "        vertical-align: top;\n",
              "    }\n",
              "\n",
              "    .dataframe thead th {\n",
              "        text-align: right;\n",
              "    }\n",
              "</style>\n",
              "<table border=\"1\" class=\"dataframe\">\n",
              "  <thead>\n",
              "    <tr style=\"text-align: right;\">\n",
              "      <th></th>\n",
              "      <th>filename</th>\n",
              "      <th>filepaths</th>\n",
              "    </tr>\n",
              "  </thead>\n",
              "  <tbody>\n",
              "    <tr>\n",
              "      <th>0</th>\n",
              "      <td>CXR_test_519.png</td>\n",
              "      <td>/content/content/pneumonia_dataset/test/CXR_te...</td>\n",
              "    </tr>\n",
              "    <tr>\n",
              "      <th>1</th>\n",
              "      <td>CXR_test_578.png</td>\n",
              "      <td>/content/content/pneumonia_dataset/test/CXR_te...</td>\n",
              "    </tr>\n",
              "    <tr>\n",
              "      <th>2</th>\n",
              "      <td>CXR_test_359.png</td>\n",
              "      <td>/content/content/pneumonia_dataset/test/CXR_te...</td>\n",
              "    </tr>\n",
              "    <tr>\n",
              "      <th>3</th>\n",
              "      <td>CXR_test_573.png</td>\n",
              "      <td>/content/content/pneumonia_dataset/test/CXR_te...</td>\n",
              "    </tr>\n",
              "    <tr>\n",
              "      <th>4</th>\n",
              "      <td>CXR_test_471.png</td>\n",
              "      <td>/content/content/pneumonia_dataset/test/CXR_te...</td>\n",
              "    </tr>\n",
              "  </tbody>\n",
              "</table>\n",
              "</div>"
            ],
            "text/plain": [
              "           filename                                          filepaths\n",
              "0  CXR_test_519.png  /content/content/pneumonia_dataset/test/CXR_te...\n",
              "1  CXR_test_578.png  /content/content/pneumonia_dataset/test/CXR_te...\n",
              "2  CXR_test_359.png  /content/content/pneumonia_dataset/test/CXR_te...\n",
              "3  CXR_test_573.png  /content/content/pneumonia_dataset/test/CXR_te...\n",
              "4  CXR_test_471.png  /content/content/pneumonia_dataset/test/CXR_te..."
            ]
          },
          "metadata": {
            "tags": []
          },
          "execution_count": 57
        }
      ]
    },
    {
      "cell_type": "markdown",
      "metadata": {
        "id": "ZqSujaW0CRi9"
      },
      "source": [
        "## Data Pre-processing on test_data\n"
      ]
    },
    {
      "cell_type": "code",
      "metadata": {
        "id": "Wy7-NZ7TCiSQ"
      },
      "source": [
        "test_pixel_data = []     # initialize an empty numpy array\n",
        "for i in range(len(test_images)):\n",
        "  \n",
        "  img_array = cv2.imread(test_images['filepaths'][i], cv2.IMREAD_GRAYSCALE)   # converting the image to gray scale\n",
        "  new_img_array=cv2.resize(img_array,(img_size,img_size))\n",
        "  test_pixel_data.append(new_img_array)"
      ],
      "execution_count": null,
      "outputs": []
    },
    {
      "cell_type": "code",
      "metadata": {
        "id": "7KNDswlffvYq"
      },
      "source": [
        "test_pixel_data = np.asarray(test_pixel_data)"
      ],
      "execution_count": null,
      "outputs": []
    },
    {
      "cell_type": "code",
      "metadata": {
        "id": "OX9c0GGI7Vue"
      },
      "source": [
        "test_pixel_data =  test_pixel_data.reshape(-1, 100, 100, 1)"
      ],
      "execution_count": null,
      "outputs": []
    },
    {
      "cell_type": "code",
      "metadata": {
        "id": "CoUBMBmz7lOA",
        "colab": {
          "base_uri": "https://localhost:8080/"
        },
        "outputId": "1e8af4e2-afbc-4baf-834b-bb54eeba2391"
      },
      "source": [
        "test_pixel_data"
      ],
      "execution_count": null,
      "outputs": [
        {
          "output_type": "execute_result",
          "data": {
            "text/plain": [
              "array([[[[  3],\n",
              "         [  3],\n",
              "         [  3],\n",
              "         ...,\n",
              "         [  5],\n",
              "         [  6],\n",
              "         [  7]],\n",
              "\n",
              "        [[  3],\n",
              "         [  2],\n",
              "         [  2],\n",
              "         ...,\n",
              "         [  5],\n",
              "         [  6],\n",
              "         [  6]],\n",
              "\n",
              "        [[  4],\n",
              "         [  2],\n",
              "         [  2],\n",
              "         ...,\n",
              "         [  5],\n",
              "         [  5],\n",
              "         [  6]],\n",
              "\n",
              "        ...,\n",
              "\n",
              "        [[  7],\n",
              "         [  5],\n",
              "         [  3],\n",
              "         ...,\n",
              "         [100],\n",
              "         [ 85],\n",
              "         [ 64]],\n",
              "\n",
              "        [[  7],\n",
              "         [  4],\n",
              "         [  3],\n",
              "         ...,\n",
              "         [106],\n",
              "         [ 97],\n",
              "         [ 71]],\n",
              "\n",
              "        [[  5],\n",
              "         [  3],\n",
              "         [  3],\n",
              "         ...,\n",
              "         [103],\n",
              "         [ 94],\n",
              "         [ 72]]],\n",
              "\n",
              "\n",
              "       [[[  0],\n",
              "         [  0],\n",
              "         [  0],\n",
              "         ...,\n",
              "         [  0],\n",
              "         [  0],\n",
              "         [  0]],\n",
              "\n",
              "        [[  0],\n",
              "         [  0],\n",
              "         [  0],\n",
              "         ...,\n",
              "         [  0],\n",
              "         [  0],\n",
              "         [  0]],\n",
              "\n",
              "        [[  0],\n",
              "         [  0],\n",
              "         [  0],\n",
              "         ...,\n",
              "         [  0],\n",
              "         [  0],\n",
              "         [  0]],\n",
              "\n",
              "        ...,\n",
              "\n",
              "        [[189],\n",
              "         [196],\n",
              "         [204],\n",
              "         ...,\n",
              "         [  0],\n",
              "         [  0],\n",
              "         [  0]],\n",
              "\n",
              "        [[198],\n",
              "         [206],\n",
              "         [212],\n",
              "         ...,\n",
              "         [ 16],\n",
              "         [  0],\n",
              "         [  0]],\n",
              "\n",
              "        [[208],\n",
              "         [220],\n",
              "         [219],\n",
              "         ...,\n",
              "         [ 51],\n",
              "         [  0],\n",
              "         [  0]]],\n",
              "\n",
              "\n",
              "       [[[  8],\n",
              "         [  8],\n",
              "         [  7],\n",
              "         ...,\n",
              "         [  8],\n",
              "         [  8],\n",
              "         [  9]],\n",
              "\n",
              "        [[  8],\n",
              "         [  7],\n",
              "         [  7],\n",
              "         ...,\n",
              "         [  7],\n",
              "         [  8],\n",
              "         [  9]],\n",
              "\n",
              "        [[  8],\n",
              "         [  7],\n",
              "         [  7],\n",
              "         ...,\n",
              "         [  7],\n",
              "         [  7],\n",
              "         [  9]],\n",
              "\n",
              "        ...,\n",
              "\n",
              "        [[209],\n",
              "         [218],\n",
              "         [225],\n",
              "         ...,\n",
              "         [141],\n",
              "         [131],\n",
              "         [126]],\n",
              "\n",
              "        [[217],\n",
              "         [225],\n",
              "         [229],\n",
              "         ...,\n",
              "         [169],\n",
              "         [170],\n",
              "         [195]],\n",
              "\n",
              "        [[236],\n",
              "         [238],\n",
              "         [238],\n",
              "         ...,\n",
              "         [243],\n",
              "         [243],\n",
              "         [243]]],\n",
              "\n",
              "\n",
              "       ...,\n",
              "\n",
              "\n",
              "       [[[  5],\n",
              "         [  5],\n",
              "         [  5],\n",
              "         ...,\n",
              "         [  7],\n",
              "         [  7],\n",
              "         [  7]],\n",
              "\n",
              "        [[  5],\n",
              "         [  6],\n",
              "         [  5],\n",
              "         ...,\n",
              "         [  7],\n",
              "         [  7],\n",
              "         [  7]],\n",
              "\n",
              "        [[  5],\n",
              "         [  5],\n",
              "         [  5],\n",
              "         ...,\n",
              "         [  6],\n",
              "         [  7],\n",
              "         [  7]],\n",
              "\n",
              "        ...,\n",
              "\n",
              "        [[  9],\n",
              "         [  9],\n",
              "         [  9],\n",
              "         ...,\n",
              "         [ 17],\n",
              "         [ 18],\n",
              "         [ 20]],\n",
              "\n",
              "        [[  9],\n",
              "         [  9],\n",
              "         [  9],\n",
              "         ...,\n",
              "         [ 18],\n",
              "         [ 18],\n",
              "         [ 27]],\n",
              "\n",
              "        [[  9],\n",
              "         [  9],\n",
              "         [  9],\n",
              "         ...,\n",
              "         [ 17],\n",
              "         [ 18],\n",
              "         [ 19]]],\n",
              "\n",
              "\n",
              "       [[[128],\n",
              "         [ 37],\n",
              "         [ 16],\n",
              "         ...,\n",
              "         [ 11],\n",
              "         [ 11],\n",
              "         [ 11]],\n",
              "\n",
              "        [[132],\n",
              "         [ 38],\n",
              "         [ 16],\n",
              "         ...,\n",
              "         [ 11],\n",
              "         [ 11],\n",
              "         [ 11]],\n",
              "\n",
              "        [[132],\n",
              "         [ 38],\n",
              "         [ 16],\n",
              "         ...,\n",
              "         [ 11],\n",
              "         [ 11],\n",
              "         [ 11]],\n",
              "\n",
              "        ...,\n",
              "\n",
              "        [[213],\n",
              "         [100],\n",
              "         [ 35],\n",
              "         ...,\n",
              "         [ 14],\n",
              "         [ 14],\n",
              "         [ 14]],\n",
              "\n",
              "        [[  0],\n",
              "         [  0],\n",
              "         [  0],\n",
              "         ...,\n",
              "         [  0],\n",
              "         [  0],\n",
              "         [  0]],\n",
              "\n",
              "        [[  0],\n",
              "         [  0],\n",
              "         [  0],\n",
              "         ...,\n",
              "         [  0],\n",
              "         [  0],\n",
              "         [  0]]],\n",
              "\n",
              "\n",
              "       [[[  7],\n",
              "         [  7],\n",
              "         [  7],\n",
              "         ...,\n",
              "         [  5],\n",
              "         [  5],\n",
              "         [  5]],\n",
              "\n",
              "        [[  6],\n",
              "         [  6],\n",
              "         [  6],\n",
              "         ...,\n",
              "         [  5],\n",
              "         [  5],\n",
              "         [  5]],\n",
              "\n",
              "        [[  6],\n",
              "         [  6],\n",
              "         [  6],\n",
              "         ...,\n",
              "         [  5],\n",
              "         [  5],\n",
              "         [  5]],\n",
              "\n",
              "        ...,\n",
              "\n",
              "        [[ 52],\n",
              "         [ 63],\n",
              "         [ 63],\n",
              "         ...,\n",
              "         [ 69],\n",
              "         [ 24],\n",
              "         [  1]],\n",
              "\n",
              "        [[ 48],\n",
              "         [ 64],\n",
              "         [ 66],\n",
              "         ...,\n",
              "         [ 86],\n",
              "         [ 31],\n",
              "         [  2]],\n",
              "\n",
              "        [[ 52],\n",
              "         [ 62],\n",
              "         [ 61],\n",
              "         ...,\n",
              "         [ 96],\n",
              "         [ 47],\n",
              "         [  1]]]], dtype=uint8)"
            ]
          },
          "metadata": {
            "tags": []
          },
          "execution_count": 61
        }
      ]
    },
    {
      "cell_type": "markdown",
      "metadata": {
        "id": "AxtDS6-0J0s2"
      },
      "source": [
        "### Make Prediction on Test Dataset\n",
        "Time to make a submission!!!"
      ]
    },
    {
      "cell_type": "code",
      "metadata": {
        "id": "yXLCDKVrJuzY"
      },
      "source": [
        "pred = cnn.predict(test_pixel_data)"
      ],
      "execution_count": null,
      "outputs": []
    },
    {
      "cell_type": "code",
      "metadata": {
        "colab": {
          "base_uri": "https://localhost:8080/"
        },
        "id": "HmuY26NB7e1F",
        "outputId": "026465db-f937-47c7-b06f-4d6b96600116"
      },
      "source": [
        "pred"
      ],
      "execution_count": null,
      "outputs": [
        {
          "output_type": "execute_result",
          "data": {
            "text/plain": [
              "array([[2.82310754e-01],\n",
              "       [4.69162920e-03],\n",
              "       [3.59779596e-01],\n",
              "       [2.43256986e-01],\n",
              "       [1.74410138e-02],\n",
              "       [6.19920969e-01],\n",
              "       [2.71303624e-01],\n",
              "       [1.12559181e-03],\n",
              "       [2.72300631e-01],\n",
              "       [1.77883923e-01],\n",
              "       [1.79590628e-01],\n",
              "       [4.84948725e-01],\n",
              "       [3.07128161e-01],\n",
              "       [9.06135201e-01],\n",
              "       [5.39903976e-02],\n",
              "       [3.05024654e-01],\n",
              "       [8.85919780e-02],\n",
              "       [1.83353394e-01],\n",
              "       [9.97327089e-01],\n",
              "       [9.85914469e-01],\n",
              "       [2.34587327e-01],\n",
              "       [8.11746299e-01],\n",
              "       [7.23944083e-02],\n",
              "       [9.91784096e-01],\n",
              "       [7.29476154e-01],\n",
              "       [1.68014511e-01],\n",
              "       [9.99260604e-01],\n",
              "       [4.13237751e-01],\n",
              "       [1.77420005e-01],\n",
              "       [9.30237651e-01],\n",
              "       [1.27766598e-02],\n",
              "       [6.64514601e-01],\n",
              "       [2.29345206e-02],\n",
              "       [2.85983481e-03],\n",
              "       [1.48583623e-03],\n",
              "       [7.73266315e-01],\n",
              "       [6.93531215e-01],\n",
              "       [4.16645050e-01],\n",
              "       [9.99712527e-01],\n",
              "       [6.93133712e-01],\n",
              "       [1.35243416e-01],\n",
              "       [7.24231917e-03],\n",
              "       [5.44675300e-03],\n",
              "       [4.61539142e-02],\n",
              "       [8.74476492e-01],\n",
              "       [1.00000000e+00],\n",
              "       [9.00718135e-07],\n",
              "       [4.27773774e-01],\n",
              "       [8.37237716e-01],\n",
              "       [9.40152466e-01],\n",
              "       [5.52353442e-01],\n",
              "       [9.99197066e-01],\n",
              "       [1.02854267e-01],\n",
              "       [3.45525332e-02],\n",
              "       [9.95908737e-01],\n",
              "       [9.51004028e-01],\n",
              "       [3.32452208e-01],\n",
              "       [1.00000000e+00],\n",
              "       [1.00000000e+00],\n",
              "       [5.78295827e-01],\n",
              "       [8.95501435e-01],\n",
              "       [1.30742404e-03],\n",
              "       [9.88517404e-01],\n",
              "       [9.92070258e-01],\n",
              "       [1.59656122e-01],\n",
              "       [3.84154707e-01],\n",
              "       [1.22293038e-03],\n",
              "       [1.28927425e-01],\n",
              "       [5.17491937e-01],\n",
              "       [5.05393000e-05],\n",
              "       [9.72163022e-01],\n",
              "       [9.95742261e-01],\n",
              "       [6.28301024e-01],\n",
              "       [4.55281556e-01],\n",
              "       [3.93712550e-01],\n",
              "       [9.34157789e-01],\n",
              "       [2.62039626e-04],\n",
              "       [9.44651067e-01],\n",
              "       [1.56058534e-03],\n",
              "       [9.96775091e-01],\n",
              "       [9.99985814e-01],\n",
              "       [3.42361599e-01],\n",
              "       [9.96416926e-01],\n",
              "       [7.45559275e-01],\n",
              "       [1.85541969e-04],\n",
              "       [1.76079154e-01],\n",
              "       [8.00451219e-01],\n",
              "       [2.71652460e-01],\n",
              "       [1.77306592e-01],\n",
              "       [2.25760251e-01],\n",
              "       [1.75221852e-04],\n",
              "       [7.46906221e-01],\n",
              "       [9.25101161e-01],\n",
              "       [4.54835266e-01],\n",
              "       [2.80690147e-03],\n",
              "       [1.69978172e-01],\n",
              "       [9.99991655e-01],\n",
              "       [1.78259671e-01],\n",
              "       [2.76321977e-01],\n",
              "       [9.94713604e-01],\n",
              "       [4.70263124e-01],\n",
              "       [3.48573513e-02],\n",
              "       [9.44495559e-01],\n",
              "       [7.24752527e-03],\n",
              "       [5.42259542e-03],\n",
              "       [9.65147018e-01],\n",
              "       [9.97515440e-01],\n",
              "       [7.10106909e-01],\n",
              "       [9.82249618e-01],\n",
              "       [2.23250900e-04],\n",
              "       [3.50673914e-01],\n",
              "       [5.90990543e-01],\n",
              "       [4.95335771e-05],\n",
              "       [4.89565670e-01],\n",
              "       [2.10806563e-01],\n",
              "       [7.39895344e-01],\n",
              "       [6.55025601e-01],\n",
              "       [3.76992702e-01],\n",
              "       [1.72533337e-02],\n",
              "       [5.93094248e-03],\n",
              "       [2.73075461e-01],\n",
              "       [1.14974203e-02],\n",
              "       [9.97222736e-02],\n",
              "       [1.42016381e-01],\n",
              "       [2.58568837e-03],\n",
              "       [9.75264609e-01],\n",
              "       [3.79702032e-01],\n",
              "       [2.25320295e-03],\n",
              "       [5.66604137e-01],\n",
              "       [5.81980109e-01],\n",
              "       [3.90888274e-01],\n",
              "       [8.86377704e-04],\n",
              "       [2.62192547e-01],\n",
              "       [1.41228944e-01],\n",
              "       [2.01307982e-01],\n",
              "       [1.51613832e-01],\n",
              "       [6.00644886e-01],\n",
              "       [1.94373697e-01],\n",
              "       [3.43130857e-01],\n",
              "       [2.87363864e-03],\n",
              "       [1.54749490e-04],\n",
              "       [5.97517751e-02],\n",
              "       [3.47094744e-01],\n",
              "       [2.53458670e-03],\n",
              "       [9.26515281e-01],\n",
              "       [1.63501427e-01],\n",
              "       [3.16724211e-01],\n",
              "       [4.68508115e-05],\n",
              "       [9.54606354e-01],\n",
              "       [3.22987400e-02],\n",
              "       [2.72462606e-01],\n",
              "       [2.19591279e-02],\n",
              "       [1.86999738e-02],\n",
              "       [4.11465406e-01],\n",
              "       [1.08883798e-01],\n",
              "       [7.96418905e-01],\n",
              "       [1.94811560e-02],\n",
              "       [6.95924342e-01],\n",
              "       [9.87932742e-01],\n",
              "       [6.67681769e-02],\n",
              "       [9.60597098e-01],\n",
              "       [6.25955522e-01],\n",
              "       [9.50479925e-01],\n",
              "       [1.56813160e-01],\n",
              "       [1.00000000e+00],\n",
              "       [2.15517613e-03],\n",
              "       [2.34756932e-01],\n",
              "       [3.62034857e-01],\n",
              "       [1.44575711e-03],\n",
              "       [3.66099060e-01],\n",
              "       [1.03551678e-01],\n",
              "       [3.42915177e-01],\n",
              "       [6.82016969e-01],\n",
              "       [2.22779885e-01],\n",
              "       [3.28422040e-02],\n",
              "       [9.99911308e-01],\n",
              "       [4.68712188e-02],\n",
              "       [6.01284318e-02],\n",
              "       [8.60744119e-01],\n",
              "       [2.06093013e-01],\n",
              "       [9.58449602e-01],\n",
              "       [9.06649530e-02],\n",
              "       [3.33651096e-01],\n",
              "       [6.86849933e-03],\n",
              "       [9.55272734e-01],\n",
              "       [9.81301844e-01],\n",
              "       [8.31113636e-01],\n",
              "       [3.46704841e-01],\n",
              "       [3.19647952e-03],\n",
              "       [6.64148629e-01],\n",
              "       [8.67923871e-02],\n",
              "       [9.94876921e-01],\n",
              "       [9.98761535e-01],\n",
              "       [3.64508837e-01],\n",
              "       [1.31845728e-01],\n",
              "       [8.16037059e-01],\n",
              "       [1.01214457e-04],\n",
              "       [6.41748011e-01],\n",
              "       [3.94007832e-01],\n",
              "       [4.63082612e-01],\n",
              "       [3.99295032e-01],\n",
              "       [1.61617680e-03],\n",
              "       [4.41423943e-03],\n",
              "       [1.13517940e-01],\n",
              "       [9.64132175e-02],\n",
              "       [1.16986632e-01],\n",
              "       [2.38005534e-01],\n",
              "       [9.70721245e-01],\n",
              "       [1.18088573e-02],\n",
              "       [9.84428003e-02],\n",
              "       [3.66145326e-03],\n",
              "       [2.35166937e-01],\n",
              "       [2.06417620e-01],\n",
              "       [1.42933503e-01],\n",
              "       [4.34143513e-01],\n",
              "       [8.07358027e-01],\n",
              "       [3.94042283e-02],\n",
              "       [2.43114397e-01],\n",
              "       [2.66136602e-02],\n",
              "       [1.75461100e-04],\n",
              "       [6.37787163e-01],\n",
              "       [3.69088957e-04],\n",
              "       [4.64746468e-02],\n",
              "       [1.05698653e-01],\n",
              "       [5.10977507e-01],\n",
              "       [1.35383889e-01],\n",
              "       [2.77472759e-06],\n",
              "       [9.49038804e-01],\n",
              "       [8.48375447e-03],\n",
              "       [9.78818655e-01],\n",
              "       [4.85351235e-01],\n",
              "       [9.90966856e-01],\n",
              "       [3.92582089e-01],\n",
              "       [7.99290612e-02],\n",
              "       [9.09168422e-01],\n",
              "       [9.84597385e-01],\n",
              "       [1.59687459e-01],\n",
              "       [6.81826591e-01],\n",
              "       [5.96345635e-03],\n",
              "       [9.27343488e-01],\n",
              "       [2.81867772e-01],\n",
              "       [1.33857667e-01],\n",
              "       [2.49955617e-02],\n",
              "       [1.00843105e-02],\n",
              "       [2.51842022e-01],\n",
              "       [4.72222984e-01],\n",
              "       [2.26017907e-02],\n",
              "       [1.47956726e-03],\n",
              "       [8.90076384e-02],\n",
              "       [3.73099670e-02],\n",
              "       [9.85173464e-01],\n",
              "       [1.36330813e-01],\n",
              "       [3.75743583e-03],\n",
              "       [9.80934322e-01],\n",
              "       [2.03245698e-04],\n",
              "       [2.47355387e-01],\n",
              "       [3.57162476e-01],\n",
              "       [1.52841650e-08],\n",
              "       [9.26393345e-02],\n",
              "       [6.24147616e-02],\n",
              "       [3.97417217e-01],\n",
              "       [3.79370935e-02],\n",
              "       [3.43863785e-01],\n",
              "       [9.79499400e-01],\n",
              "       [9.43863869e-01],\n",
              "       [9.75410342e-01],\n",
              "       [9.93213534e-01],\n",
              "       [4.97825593e-01],\n",
              "       [7.41831839e-01],\n",
              "       [2.89586969e-02],\n",
              "       [1.35012299e-01],\n",
              "       [1.28965527e-01],\n",
              "       [1.76269442e-01],\n",
              "       [9.98796940e-01],\n",
              "       [1.48361863e-03],\n",
              "       [2.86304295e-01],\n",
              "       [2.86506911e-05],\n",
              "       [5.09096682e-01],\n",
              "       [5.73190093e-01],\n",
              "       [2.36895710e-01],\n",
              "       [9.35889006e-01],\n",
              "       [5.53129688e-02],\n",
              "       [8.53504986e-04],\n",
              "       [5.29904127e-01],\n",
              "       [8.55826080e-01],\n",
              "       [1.43040016e-01],\n",
              "       [4.25012380e-01],\n",
              "       [7.77337253e-01],\n",
              "       [9.54087257e-01],\n",
              "       [9.49401081e-01],\n",
              "       [1.90573028e-05],\n",
              "       [5.90506883e-04],\n",
              "       [3.71668339e-01],\n",
              "       [9.82006848e-01],\n",
              "       [9.70525384e-01],\n",
              "       [6.15876198e-01],\n",
              "       [3.78532824e-03],\n",
              "       [5.10397032e-02],\n",
              "       [3.37480128e-01],\n",
              "       [8.80082011e-01],\n",
              "       [1.66038215e-01],\n",
              "       [9.95881915e-01],\n",
              "       [3.81299943e-01],\n",
              "       [5.94751691e-06],\n",
              "       [2.34064180e-02],\n",
              "       [8.81259441e-01],\n",
              "       [7.65685141e-01],\n",
              "       [9.19873536e-01],\n",
              "       [6.43271923e-01],\n",
              "       [1.10762902e-01],\n",
              "       [9.99732554e-01],\n",
              "       [2.08943203e-01],\n",
              "       [6.21079981e-01],\n",
              "       [9.98252928e-01],\n",
              "       [2.31209114e-01],\n",
              "       [4.31450874e-01],\n",
              "       [1.00000000e+00],\n",
              "       [7.04836845e-01],\n",
              "       [8.84429693e-01],\n",
              "       [5.42701781e-03],\n",
              "       [8.55275691e-01],\n",
              "       [9.79504764e-01],\n",
              "       [9.95492339e-01],\n",
              "       [3.18287686e-03],\n",
              "       [6.17839687e-05],\n",
              "       [4.15987432e-01],\n",
              "       [9.76762831e-01],\n",
              "       [4.07144576e-01],\n",
              "       [7.72887349e-01],\n",
              "       [5.26759803e-01],\n",
              "       [4.07309039e-03],\n",
              "       [2.68409610e-01],\n",
              "       [1.11145981e-01],\n",
              "       [1.62059784e-01],\n",
              "       [9.77491021e-01],\n",
              "       [8.52726758e-01],\n",
              "       [8.74978900e-01],\n",
              "       [6.65570915e-01],\n",
              "       [3.24598921e-04],\n",
              "       [2.99562143e-05],\n",
              "       [5.81219280e-03],\n",
              "       [8.20135772e-02],\n",
              "       [9.99478757e-01],\n",
              "       [9.81109738e-01],\n",
              "       [2.71080643e-01],\n",
              "       [1.13013545e-02],\n",
              "       [4.68756892e-02],\n",
              "       [9.64643240e-01],\n",
              "       [7.63723731e-01],\n",
              "       [2.00682282e-01],\n",
              "       [8.43601167e-01],\n",
              "       [9.73862946e-01],\n",
              "       [9.99947786e-01],\n",
              "       [9.98881519e-01],\n",
              "       [6.90737069e-01],\n",
              "       [4.49692383e-02],\n",
              "       [4.86678869e-01],\n",
              "       [6.40086010e-02],\n",
              "       [3.87860052e-02],\n",
              "       [5.53883016e-01],\n",
              "       [1.79474161e-03],\n",
              "       [6.10936105e-01],\n",
              "       [2.58828938e-01],\n",
              "       [9.56345558e-01],\n",
              "       [5.58824837e-02],\n",
              "       [1.80290658e-02],\n",
              "       [9.78415072e-01],\n",
              "       [1.87912777e-01],\n",
              "       [1.79852301e-03],\n",
              "       [8.92676532e-01],\n",
              "       [9.99237180e-01],\n",
              "       [9.78477836e-01],\n",
              "       [1.45816058e-01],\n",
              "       [9.97950017e-01],\n",
              "       [4.25678164e-01],\n",
              "       [2.88729936e-01],\n",
              "       [2.41402462e-01],\n",
              "       [8.84375989e-01],\n",
              "       [8.52717042e-01],\n",
              "       [2.11780444e-01],\n",
              "       [2.46211945e-04],\n",
              "       [1.29382357e-01],\n",
              "       [9.21656728e-01],\n",
              "       [7.81765282e-01],\n",
              "       [1.08068198e-01],\n",
              "       [2.03994121e-02],\n",
              "       [7.59870648e-01],\n",
              "       [2.00612172e-02],\n",
              "       [6.68048143e-01],\n",
              "       [5.33745348e-01],\n",
              "       [1.10836269e-03],\n",
              "       [1.51399925e-01],\n",
              "       [2.30773911e-02],\n",
              "       [9.97645795e-01],\n",
              "       [2.34934211e-01],\n",
              "       [1.41146090e-02],\n",
              "       [1.01963451e-06],\n",
              "       [8.94392967e-01],\n",
              "       [6.59576690e-05],\n",
              "       [3.94248337e-01],\n",
              "       [3.46661896e-01],\n",
              "       [5.95976889e-01],\n",
              "       [3.75760905e-03],\n",
              "       [6.06790991e-06],\n",
              "       [5.56777529e-02],\n",
              "       [3.48188579e-01],\n",
              "       [8.08563054e-01],\n",
              "       [2.15078220e-01],\n",
              "       [9.98415470e-01],\n",
              "       [9.13731102e-03],\n",
              "       [1.50318560e-03],\n",
              "       [6.23072386e-01],\n",
              "       [9.27758455e-01],\n",
              "       [3.33066308e-03],\n",
              "       [3.34110588e-01],\n",
              "       [1.15308732e-01],\n",
              "       [8.99488270e-01],\n",
              "       [9.54420805e-01],\n",
              "       [9.89008367e-01],\n",
              "       [1.44985970e-02],\n",
              "       [7.91108370e-01],\n",
              "       [3.87057304e-01],\n",
              "       [1.60941988e-01],\n",
              "       [8.88815343e-01],\n",
              "       [2.35929996e-01],\n",
              "       [4.27799225e-01],\n",
              "       [9.25845563e-01],\n",
              "       [1.64733008e-01],\n",
              "       [1.64567344e-02],\n",
              "       [4.93970454e-01],\n",
              "       [2.24913543e-04],\n",
              "       [1.12823807e-01],\n",
              "       [7.63886237e-06],\n",
              "       [5.69748044e-01],\n",
              "       [8.21837008e-01],\n",
              "       [1.55116925e-02],\n",
              "       [6.95613086e-01],\n",
              "       [1.70133062e-04],\n",
              "       [9.94165897e-01],\n",
              "       [9.66368020e-01],\n",
              "       [9.98311281e-01],\n",
              "       [6.17492080e-01],\n",
              "       [1.37271345e-01],\n",
              "       [7.62782276e-01],\n",
              "       [9.99944091e-01],\n",
              "       [1.14893273e-01],\n",
              "       [6.66988194e-01],\n",
              "       [2.26421475e-01],\n",
              "       [9.96513188e-01],\n",
              "       [1.62979052e-03],\n",
              "       [2.47563303e-01],\n",
              "       [9.96758044e-01],\n",
              "       [5.32508129e-04],\n",
              "       [8.47481787e-02],\n",
              "       [7.28660882e-01],\n",
              "       [9.08137500e-01],\n",
              "       [1.42897263e-01],\n",
              "       [6.95778251e-01],\n",
              "       [7.41637707e-01],\n",
              "       [4.54265013e-04],\n",
              "       [1.13744773e-01],\n",
              "       [9.77160502e-03],\n",
              "       [9.68312696e-02],\n",
              "       [4.31891419e-02],\n",
              "       [8.58280778e-01],\n",
              "       [6.92097296e-04],\n",
              "       [2.39161644e-02],\n",
              "       [4.20692572e-07],\n",
              "       [9.38881636e-01],\n",
              "       [9.88405824e-01],\n",
              "       [9.68664661e-02],\n",
              "       [1.48268446e-01],\n",
              "       [7.16227980e-04],\n",
              "       [1.27670273e-01],\n",
              "       [1.25246821e-02],\n",
              "       [3.06158755e-02],\n",
              "       [5.03853261e-01],\n",
              "       [3.02740335e-01],\n",
              "       [6.52484298e-01],\n",
              "       [9.29229185e-02],\n",
              "       [6.42853826e-02],\n",
              "       [5.48896089e-04],\n",
              "       [3.96045119e-01],\n",
              "       [1.28954679e-01],\n",
              "       [3.29620034e-01],\n",
              "       [7.81454623e-01],\n",
              "       [3.34850937e-01],\n",
              "       [2.00501367e-01],\n",
              "       [9.99945164e-01],\n",
              "       [5.40908873e-01],\n",
              "       [1.35570988e-01],\n",
              "       [9.71803546e-01],\n",
              "       [7.45646048e-06],\n",
              "       [4.32559336e-03],\n",
              "       [1.60745233e-02],\n",
              "       [2.96907164e-02],\n",
              "       [8.49158987e-02],\n",
              "       [5.06516278e-01],\n",
              "       [6.08184576e-01],\n",
              "       [4.76769693e-02],\n",
              "       [6.96311474e-01],\n",
              "       [8.52930243e-04],\n",
              "       [5.79570711e-01],\n",
              "       [2.72205114e-01],\n",
              "       [2.00125471e-01],\n",
              "       [9.98386860e-01],\n",
              "       [5.79652429e-01],\n",
              "       [1.60706833e-01],\n",
              "       [9.75038707e-01],\n",
              "       [9.71201241e-01],\n",
              "       [7.45226622e-01],\n",
              "       [2.55327791e-01],\n",
              "       [1.12328023e-01],\n",
              "       [4.86383736e-02],\n",
              "       [1.22595262e-02],\n",
              "       [6.57014132e-01],\n",
              "       [4.03429717e-02],\n",
              "       [6.19868636e-01],\n",
              "       [9.98317480e-01],\n",
              "       [1.82708763e-02],\n",
              "       [1.28020113e-02],\n",
              "       [5.31783819e-01],\n",
              "       [1.28015969e-02],\n",
              "       [2.50068698e-02],\n",
              "       [9.55115557e-01],\n",
              "       [6.49631545e-02],\n",
              "       [5.40469661e-02],\n",
              "       [2.89314575e-02],\n",
              "       [9.73147452e-01],\n",
              "       [1.87846228e-01],\n",
              "       [1.49285620e-06],\n",
              "       [2.06284523e-01],\n",
              "       [1.33327795e-02],\n",
              "       [7.94292867e-01],\n",
              "       [7.87989935e-04],\n",
              "       [9.06284690e-01],\n",
              "       [1.21922093e-02],\n",
              "       [9.37197447e-01],\n",
              "       [9.98045325e-01],\n",
              "       [3.14765051e-02],\n",
              "       [9.70298052e-01],\n",
              "       [2.33863398e-01],\n",
              "       [2.21737772e-01],\n",
              "       [1.38253599e-01],\n",
              "       [7.03341961e-02],\n",
              "       [9.99686241e-01],\n",
              "       [4.32807691e-02],\n",
              "       [8.42968166e-01],\n",
              "       [1.83547363e-01],\n",
              "       [5.50554693e-01],\n",
              "       [9.95763898e-01],\n",
              "       [7.66844928e-01],\n",
              "       [7.13053867e-02],\n",
              "       [2.05834761e-01],\n",
              "       [1.15322694e-01],\n",
              "       [1.93344280e-02],\n",
              "       [5.49444817e-02],\n",
              "       [2.52556335e-02],\n",
              "       [8.86910439e-01],\n",
              "       [8.90492180e-10],\n",
              "       [2.63884128e-03],\n",
              "       [5.69062531e-02],\n",
              "       [7.03530684e-02],\n",
              "       [9.00585115e-01],\n",
              "       [6.34165481e-02],\n",
              "       [1.97732747e-01],\n",
              "       [4.15260307e-02],\n",
              "       [9.40204412e-02],\n",
              "       [9.99377668e-01],\n",
              "       [9.88253295e-01],\n",
              "       [6.90025926e-01],\n",
              "       [3.99221946e-03],\n",
              "       [4.21347581e-02],\n",
              "       [2.44995434e-04],\n",
              "       [2.31525041e-02],\n",
              "       [9.47123952e-03],\n",
              "       [8.81799400e-01],\n",
              "       [9.60755944e-01],\n",
              "       [4.98142578e-02],\n",
              "       [1.81029737e-01],\n",
              "       [7.33597755e-01],\n",
              "       [9.99231577e-01],\n",
              "       [2.95670982e-02],\n",
              "       [9.98575449e-01],\n",
              "       [8.01202893e-01],\n",
              "       [6.15212679e-01],\n",
              "       [1.77287888e-02],\n",
              "       [6.08391523e-01],\n",
              "       [6.90861931e-03],\n",
              "       [1.41003879e-03],\n",
              "       [3.52748781e-01],\n",
              "       [9.26096179e-03],\n",
              "       [4.71500665e-01],\n",
              "       [2.24182770e-01],\n",
              "       [1.00000000e+00],\n",
              "       [3.66018236e-01],\n",
              "       [3.59725714e-01],\n",
              "       [6.18578076e-01],\n",
              "       [3.81407253e-02],\n",
              "       [6.21158719e-01],\n",
              "       [7.40427792e-01],\n",
              "       [3.61796748e-03],\n",
              "       [9.99930978e-01],\n",
              "       [4.02764648e-01],\n",
              "       [9.89062369e-01],\n",
              "       [9.24642444e-01]], dtype=float32)"
            ]
          },
          "metadata": {
            "tags": []
          },
          "execution_count": 63
        }
      ]
    },
    {
      "cell_type": "markdown",
      "metadata": {
        "id": "vamZgBfBYv-t"
      },
      "source": [
        "Convert the numerical classes to corresponding categorical classes."
      ]
    },
    {
      "cell_type": "code",
      "metadata": {
        "id": "9XnarKhMY2St"
      },
      "source": [
        "predictions = []\n",
        "for item in pred:\n",
        "  if item <= 0.5:\n",
        "    predictions.append('normal')\n",
        "  else:\n",
        "    predictions.append('pneumonia')"
      ],
      "execution_count": null,
      "outputs": []
    },
    {
      "cell_type": "code",
      "metadata": {
        "colab": {
          "base_uri": "https://localhost:8080/"
        },
        "id": "Gk0vMQ_8T_ML",
        "outputId": "9cb811b1-d33e-4012-fb27-d2d9b8474676"
      },
      "source": [
        "predictions"
      ],
      "execution_count": null,
      "outputs": [
        {
          "output_type": "execute_result",
          "data": {
            "text/plain": [
              "['normal',\n",
              " 'normal',\n",
              " 'normal',\n",
              " 'normal',\n",
              " 'normal',\n",
              " 'pneumonia',\n",
              " 'normal',\n",
              " 'normal',\n",
              " 'normal',\n",
              " 'normal',\n",
              " 'normal',\n",
              " 'normal',\n",
              " 'normal',\n",
              " 'pneumonia',\n",
              " 'normal',\n",
              " 'normal',\n",
              " 'normal',\n",
              " 'normal',\n",
              " 'pneumonia',\n",
              " 'pneumonia',\n",
              " 'normal',\n",
              " 'pneumonia',\n",
              " 'normal',\n",
              " 'pneumonia',\n",
              " 'pneumonia',\n",
              " 'normal',\n",
              " 'pneumonia',\n",
              " 'normal',\n",
              " 'normal',\n",
              " 'pneumonia',\n",
              " 'normal',\n",
              " 'pneumonia',\n",
              " 'normal',\n",
              " 'normal',\n",
              " 'normal',\n",
              " 'pneumonia',\n",
              " 'pneumonia',\n",
              " 'normal',\n",
              " 'pneumonia',\n",
              " 'pneumonia',\n",
              " 'normal',\n",
              " 'normal',\n",
              " 'normal',\n",
              " 'normal',\n",
              " 'pneumonia',\n",
              " 'pneumonia',\n",
              " 'normal',\n",
              " 'normal',\n",
              " 'pneumonia',\n",
              " 'pneumonia',\n",
              " 'pneumonia',\n",
              " 'pneumonia',\n",
              " 'normal',\n",
              " 'normal',\n",
              " 'pneumonia',\n",
              " 'pneumonia',\n",
              " 'normal',\n",
              " 'pneumonia',\n",
              " 'pneumonia',\n",
              " 'pneumonia',\n",
              " 'pneumonia',\n",
              " 'normal',\n",
              " 'pneumonia',\n",
              " 'pneumonia',\n",
              " 'normal',\n",
              " 'normal',\n",
              " 'normal',\n",
              " 'normal',\n",
              " 'pneumonia',\n",
              " 'normal',\n",
              " 'pneumonia',\n",
              " 'pneumonia',\n",
              " 'pneumonia',\n",
              " 'normal',\n",
              " 'normal',\n",
              " 'pneumonia',\n",
              " 'normal',\n",
              " 'pneumonia',\n",
              " 'normal',\n",
              " 'pneumonia',\n",
              " 'pneumonia',\n",
              " 'normal',\n",
              " 'pneumonia',\n",
              " 'pneumonia',\n",
              " 'normal',\n",
              " 'normal',\n",
              " 'pneumonia',\n",
              " 'normal',\n",
              " 'normal',\n",
              " 'normal',\n",
              " 'normal',\n",
              " 'pneumonia',\n",
              " 'pneumonia',\n",
              " 'normal',\n",
              " 'normal',\n",
              " 'normal',\n",
              " 'pneumonia',\n",
              " 'normal',\n",
              " 'normal',\n",
              " 'pneumonia',\n",
              " 'normal',\n",
              " 'normal',\n",
              " 'pneumonia',\n",
              " 'normal',\n",
              " 'normal',\n",
              " 'pneumonia',\n",
              " 'pneumonia',\n",
              " 'pneumonia',\n",
              " 'pneumonia',\n",
              " 'normal',\n",
              " 'normal',\n",
              " 'pneumonia',\n",
              " 'normal',\n",
              " 'normal',\n",
              " 'normal',\n",
              " 'pneumonia',\n",
              " 'pneumonia',\n",
              " 'normal',\n",
              " 'normal',\n",
              " 'normal',\n",
              " 'normal',\n",
              " 'normal',\n",
              " 'normal',\n",
              " 'normal',\n",
              " 'normal',\n",
              " 'pneumonia',\n",
              " 'normal',\n",
              " 'normal',\n",
              " 'pneumonia',\n",
              " 'pneumonia',\n",
              " 'normal',\n",
              " 'normal',\n",
              " 'normal',\n",
              " 'normal',\n",
              " 'normal',\n",
              " 'normal',\n",
              " 'pneumonia',\n",
              " 'normal',\n",
              " 'normal',\n",
              " 'normal',\n",
              " 'normal',\n",
              " 'normal',\n",
              " 'normal',\n",
              " 'normal',\n",
              " 'pneumonia',\n",
              " 'normal',\n",
              " 'normal',\n",
              " 'normal',\n",
              " 'pneumonia',\n",
              " 'normal',\n",
              " 'normal',\n",
              " 'normal',\n",
              " 'normal',\n",
              " 'normal',\n",
              " 'normal',\n",
              " 'pneumonia',\n",
              " 'normal',\n",
              " 'pneumonia',\n",
              " 'pneumonia',\n",
              " 'normal',\n",
              " 'pneumonia',\n",
              " 'pneumonia',\n",
              " 'pneumonia',\n",
              " 'normal',\n",
              " 'pneumonia',\n",
              " 'normal',\n",
              " 'normal',\n",
              " 'normal',\n",
              " 'normal',\n",
              " 'normal',\n",
              " 'normal',\n",
              " 'normal',\n",
              " 'pneumonia',\n",
              " 'normal',\n",
              " 'normal',\n",
              " 'pneumonia',\n",
              " 'normal',\n",
              " 'normal',\n",
              " 'pneumonia',\n",
              " 'normal',\n",
              " 'pneumonia',\n",
              " 'normal',\n",
              " 'normal',\n",
              " 'normal',\n",
              " 'pneumonia',\n",
              " 'pneumonia',\n",
              " 'pneumonia',\n",
              " 'normal',\n",
              " 'normal',\n",
              " 'pneumonia',\n",
              " 'normal',\n",
              " 'pneumonia',\n",
              " 'pneumonia',\n",
              " 'normal',\n",
              " 'normal',\n",
              " 'pneumonia',\n",
              " 'normal',\n",
              " 'pneumonia',\n",
              " 'normal',\n",
              " 'normal',\n",
              " 'normal',\n",
              " 'normal',\n",
              " 'normal',\n",
              " 'normal',\n",
              " 'normal',\n",
              " 'normal',\n",
              " 'normal',\n",
              " 'pneumonia',\n",
              " 'normal',\n",
              " 'normal',\n",
              " 'normal',\n",
              " 'normal',\n",
              " 'normal',\n",
              " 'normal',\n",
              " 'normal',\n",
              " 'pneumonia',\n",
              " 'normal',\n",
              " 'normal',\n",
              " 'normal',\n",
              " 'normal',\n",
              " 'pneumonia',\n",
              " 'normal',\n",
              " 'normal',\n",
              " 'normal',\n",
              " 'pneumonia',\n",
              " 'normal',\n",
              " 'normal',\n",
              " 'pneumonia',\n",
              " 'normal',\n",
              " 'pneumonia',\n",
              " 'normal',\n",
              " 'pneumonia',\n",
              " 'normal',\n",
              " 'normal',\n",
              " 'pneumonia',\n",
              " 'pneumonia',\n",
              " 'normal',\n",
              " 'pneumonia',\n",
              " 'normal',\n",
              " 'pneumonia',\n",
              " 'normal',\n",
              " 'normal',\n",
              " 'normal',\n",
              " 'normal',\n",
              " 'normal',\n",
              " 'normal',\n",
              " 'normal',\n",
              " 'normal',\n",
              " 'normal',\n",
              " 'normal',\n",
              " 'pneumonia',\n",
              " 'normal',\n",
              " 'normal',\n",
              " 'pneumonia',\n",
              " 'normal',\n",
              " 'normal',\n",
              " 'normal',\n",
              " 'normal',\n",
              " 'normal',\n",
              " 'normal',\n",
              " 'normal',\n",
              " 'normal',\n",
              " 'normal',\n",
              " 'pneumonia',\n",
              " 'pneumonia',\n",
              " 'pneumonia',\n",
              " 'pneumonia',\n",
              " 'normal',\n",
              " 'pneumonia',\n",
              " 'normal',\n",
              " 'normal',\n",
              " 'normal',\n",
              " 'normal',\n",
              " 'pneumonia',\n",
              " 'normal',\n",
              " 'normal',\n",
              " 'normal',\n",
              " 'pneumonia',\n",
              " 'pneumonia',\n",
              " 'normal',\n",
              " 'pneumonia',\n",
              " 'normal',\n",
              " 'normal',\n",
              " 'pneumonia',\n",
              " 'pneumonia',\n",
              " 'normal',\n",
              " 'normal',\n",
              " 'pneumonia',\n",
              " 'pneumonia',\n",
              " 'pneumonia',\n",
              " 'normal',\n",
              " 'normal',\n",
              " 'normal',\n",
              " 'pneumonia',\n",
              " 'pneumonia',\n",
              " 'pneumonia',\n",
              " 'normal',\n",
              " 'normal',\n",
              " 'normal',\n",
              " 'pneumonia',\n",
              " 'normal',\n",
              " 'pneumonia',\n",
              " 'normal',\n",
              " 'normal',\n",
              " 'normal',\n",
              " 'pneumonia',\n",
              " 'pneumonia',\n",
              " 'pneumonia',\n",
              " 'pneumonia',\n",
              " 'normal',\n",
              " 'pneumonia',\n",
              " 'normal',\n",
              " 'pneumonia',\n",
              " 'pneumonia',\n",
              " 'normal',\n",
              " 'normal',\n",
              " 'pneumonia',\n",
              " 'pneumonia',\n",
              " 'pneumonia',\n",
              " 'normal',\n",
              " 'pneumonia',\n",
              " 'pneumonia',\n",
              " 'pneumonia',\n",
              " 'normal',\n",
              " 'normal',\n",
              " 'normal',\n",
              " 'pneumonia',\n",
              " 'normal',\n",
              " 'pneumonia',\n",
              " 'pneumonia',\n",
              " 'normal',\n",
              " 'normal',\n",
              " 'normal',\n",
              " 'normal',\n",
              " 'pneumonia',\n",
              " 'pneumonia',\n",
              " 'pneumonia',\n",
              " 'pneumonia',\n",
              " 'normal',\n",
              " 'normal',\n",
              " 'normal',\n",
              " 'normal',\n",
              " 'pneumonia',\n",
              " 'pneumonia',\n",
              " 'normal',\n",
              " 'normal',\n",
              " 'normal',\n",
              " 'pneumonia',\n",
              " 'pneumonia',\n",
              " 'normal',\n",
              " 'pneumonia',\n",
              " 'pneumonia',\n",
              " 'pneumonia',\n",
              " 'pneumonia',\n",
              " 'pneumonia',\n",
              " 'normal',\n",
              " 'normal',\n",
              " 'normal',\n",
              " 'normal',\n",
              " 'pneumonia',\n",
              " 'normal',\n",
              " 'pneumonia',\n",
              " 'normal',\n",
              " 'pneumonia',\n",
              " 'normal',\n",
              " 'normal',\n",
              " 'pneumonia',\n",
              " 'normal',\n",
              " 'normal',\n",
              " 'pneumonia',\n",
              " 'pneumonia',\n",
              " 'pneumonia',\n",
              " 'normal',\n",
              " 'pneumonia',\n",
              " 'normal',\n",
              " 'normal',\n",
              " 'normal',\n",
              " 'pneumonia',\n",
              " 'pneumonia',\n",
              " 'normal',\n",
              " 'normal',\n",
              " 'normal',\n",
              " 'pneumonia',\n",
              " 'pneumonia',\n",
              " 'normal',\n",
              " 'normal',\n",
              " 'pneumonia',\n",
              " 'normal',\n",
              " 'pneumonia',\n",
              " 'pneumonia',\n",
              " 'normal',\n",
              " 'normal',\n",
              " 'normal',\n",
              " 'pneumonia',\n",
              " 'normal',\n",
              " 'normal',\n",
              " 'normal',\n",
              " 'pneumonia',\n",
              " 'normal',\n",
              " 'normal',\n",
              " 'normal',\n",
              " 'pneumonia',\n",
              " 'normal',\n",
              " 'normal',\n",
              " 'normal',\n",
              " 'normal',\n",
              " 'pneumonia',\n",
              " 'normal',\n",
              " 'pneumonia',\n",
              " 'normal',\n",
              " 'normal',\n",
              " 'pneumonia',\n",
              " 'pneumonia',\n",
              " 'normal',\n",
              " 'normal',\n",
              " 'normal',\n",
              " 'pneumonia',\n",
              " 'pneumonia',\n",
              " 'pneumonia',\n",
              " 'normal',\n",
              " 'pneumonia',\n",
              " 'normal',\n",
              " 'normal',\n",
              " 'pneumonia',\n",
              " 'normal',\n",
              " 'normal',\n",
              " 'pneumonia',\n",
              " 'normal',\n",
              " 'normal',\n",
              " 'normal',\n",
              " 'normal',\n",
              " 'normal',\n",
              " 'normal',\n",
              " 'pneumonia',\n",
              " 'pneumonia',\n",
              " 'normal',\n",
              " 'pneumonia',\n",
              " 'normal',\n",
              " 'pneumonia',\n",
              " 'pneumonia',\n",
              " 'pneumonia',\n",
              " 'pneumonia',\n",
              " 'normal',\n",
              " 'pneumonia',\n",
              " 'pneumonia',\n",
              " 'normal',\n",
              " 'pneumonia',\n",
              " 'normal',\n",
              " 'pneumonia',\n",
              " 'normal',\n",
              " 'normal',\n",
              " 'pneumonia',\n",
              " 'normal',\n",
              " 'normal',\n",
              " 'pneumonia',\n",
              " 'pneumonia',\n",
              " 'normal',\n",
              " 'pneumonia',\n",
              " 'pneumonia',\n",
              " 'normal',\n",
              " 'normal',\n",
              " 'normal',\n",
              " 'normal',\n",
              " 'normal',\n",
              " 'pneumonia',\n",
              " 'normal',\n",
              " 'normal',\n",
              " 'normal',\n",
              " 'pneumonia',\n",
              " 'pneumonia',\n",
              " 'normal',\n",
              " 'normal',\n",
              " 'normal',\n",
              " 'normal',\n",
              " 'normal',\n",
              " 'normal',\n",
              " 'pneumonia',\n",
              " 'normal',\n",
              " 'pneumonia',\n",
              " 'normal',\n",
              " 'normal',\n",
              " 'normal',\n",
              " 'normal',\n",
              " 'normal',\n",
              " 'normal',\n",
              " 'pneumonia',\n",
              " 'normal',\n",
              " 'normal',\n",
              " 'pneumonia',\n",
              " 'pneumonia',\n",
              " 'normal',\n",
              " 'pneumonia',\n",
              " 'normal',\n",
              " 'normal',\n",
              " 'normal',\n",
              " 'normal',\n",
              " 'normal',\n",
              " 'pneumonia',\n",
              " 'pneumonia',\n",
              " 'normal',\n",
              " 'pneumonia',\n",
              " 'normal',\n",
              " 'pneumonia',\n",
              " 'normal',\n",
              " 'normal',\n",
              " 'pneumonia',\n",
              " 'pneumonia',\n",
              " 'normal',\n",
              " 'pneumonia',\n",
              " 'pneumonia',\n",
              " 'pneumonia',\n",
              " 'normal',\n",
              " 'normal',\n",
              " 'normal',\n",
              " 'normal',\n",
              " 'pneumonia',\n",
              " 'normal',\n",
              " 'pneumonia',\n",
              " 'pneumonia',\n",
              " 'normal',\n",
              " 'normal',\n",
              " 'pneumonia',\n",
              " 'normal',\n",
              " 'normal',\n",
              " 'pneumonia',\n",
              " 'normal',\n",
              " 'normal',\n",
              " 'normal',\n",
              " 'pneumonia',\n",
              " 'normal',\n",
              " 'normal',\n",
              " 'normal',\n",
              " 'normal',\n",
              " 'pneumonia',\n",
              " 'normal',\n",
              " 'pneumonia',\n",
              " 'normal',\n",
              " 'pneumonia',\n",
              " 'pneumonia',\n",
              " 'normal',\n",
              " 'pneumonia',\n",
              " 'normal',\n",
              " 'normal',\n",
              " 'normal',\n",
              " 'normal',\n",
              " 'pneumonia',\n",
              " 'normal',\n",
              " 'pneumonia',\n",
              " 'normal',\n",
              " 'pneumonia',\n",
              " 'pneumonia',\n",
              " 'pneumonia',\n",
              " 'normal',\n",
              " 'normal',\n",
              " 'normal',\n",
              " 'normal',\n",
              " 'normal',\n",
              " 'normal',\n",
              " 'pneumonia',\n",
              " 'normal',\n",
              " 'normal',\n",
              " 'normal',\n",
              " 'normal',\n",
              " 'pneumonia',\n",
              " 'normal',\n",
              " 'normal',\n",
              " 'normal',\n",
              " 'normal',\n",
              " 'pneumonia',\n",
              " 'pneumonia',\n",
              " 'pneumonia',\n",
              " 'normal',\n",
              " 'normal',\n",
              " 'normal',\n",
              " 'normal',\n",
              " 'normal',\n",
              " 'pneumonia',\n",
              " 'pneumonia',\n",
              " 'normal',\n",
              " 'normal',\n",
              " 'pneumonia',\n",
              " 'pneumonia',\n",
              " 'normal',\n",
              " 'pneumonia',\n",
              " 'pneumonia',\n",
              " 'pneumonia',\n",
              " 'normal',\n",
              " 'pneumonia',\n",
              " 'normal',\n",
              " 'normal',\n",
              " 'normal',\n",
              " 'normal',\n",
              " 'normal',\n",
              " 'normal',\n",
              " 'pneumonia',\n",
              " 'normal',\n",
              " 'normal',\n",
              " 'pneumonia',\n",
              " 'normal',\n",
              " 'pneumonia',\n",
              " 'pneumonia',\n",
              " 'normal',\n",
              " 'pneumonia',\n",
              " 'normal',\n",
              " 'pneumonia',\n",
              " 'pneumonia']"
            ]
          },
          "metadata": {
            "tags": []
          },
          "execution_count": 67
        }
      ]
    },
    {
      "cell_type": "markdown",
      "metadata": {
        "id": "THaqbN4LM6YX"
      },
      "source": [
        "## **How to save prediciton results locally via jupyter notebook?**\n",
        "If you are working on Jupyter notebook, execute below block of codes. A file named 'submission.csv' will be created in your current working directory."
      ]
    },
    {
      "cell_type": "code",
      "metadata": {
        "id": "5I2wAC5RMwvJ"
      },
      "source": [
        "res = pd.DataFrame({'filename': test_images['filename'], 'label': predictions})  # prediction is nothing but the final predictions of your model on input features of your new unseen test data\n",
        "res.to_csv(\"submission.csv\", index = False)      # the csv file will be saved locally on the same location where this notebook is located."
      ],
      "execution_count": null,
      "outputs": []
    },
    {
      "cell_type": "markdown",
      "metadata": {
        "id": "fquFjyl6OfGz"
      },
      "source": [
        "# **OR,**\n",
        "**If you are working on Google Colab then use the below set of code to save prediction results locally**"
      ]
    },
    {
      "cell_type": "markdown",
      "metadata": {
        "id": "ILu2PfzNOqLx"
      },
      "source": [
        "## **How to save prediction results locally via colab notebook?**\n",
        "If you are working on Google Colab Notebook, execute below block of codes. A file named 'prediction_results' will be downloaded in your system."
      ]
    },
    {
      "cell_type": "code",
      "metadata": {
        "id": "FpcTFRw7NgXp",
        "colab": {
          "base_uri": "https://localhost:8080/",
          "height": 17
        },
        "outputId": "c2052a75-29b3-479b-88c5-3fdb48da3575"
      },
      "source": [
        "res = pd.DataFrame({'filename': test_images['filename'], 'label': predictions})  # prediction is nothing but the final predictions of your model on input features of your new unseen test data\n",
        "res.to_csv(\"submission.csv\", index = False) \n",
        "\n",
        "# To download the csv file locally\n",
        "from google.colab import files        \n",
        "files.download('submission.csv')"
      ],
      "execution_count": null,
      "outputs": [
        {
          "output_type": "display_data",
          "data": {
            "application/javascript": [
              "\n",
              "    async function download(id, filename, size) {\n",
              "      if (!google.colab.kernel.accessAllowed) {\n",
              "        return;\n",
              "      }\n",
              "      const div = document.createElement('div');\n",
              "      const label = document.createElement('label');\n",
              "      label.textContent = `Downloading \"${filename}\": `;\n",
              "      div.appendChild(label);\n",
              "      const progress = document.createElement('progress');\n",
              "      progress.max = size;\n",
              "      div.appendChild(progress);\n",
              "      document.body.appendChild(div);\n",
              "\n",
              "      const buffers = [];\n",
              "      let downloaded = 0;\n",
              "\n",
              "      const channel = await google.colab.kernel.comms.open(id);\n",
              "      // Send a message to notify the kernel that we're ready.\n",
              "      channel.send({})\n",
              "\n",
              "      for await (const message of channel.messages) {\n",
              "        // Send a message to notify the kernel that we're ready.\n",
              "        channel.send({})\n",
              "        if (message.buffers) {\n",
              "          for (const buffer of message.buffers) {\n",
              "            buffers.push(buffer);\n",
              "            downloaded += buffer.byteLength;\n",
              "            progress.value = downloaded;\n",
              "          }\n",
              "        }\n",
              "      }\n",
              "      const blob = new Blob(buffers, {type: 'application/binary'});\n",
              "      const a = document.createElement('a');\n",
              "      a.href = window.URL.createObjectURL(blob);\n",
              "      a.download = filename;\n",
              "      div.appendChild(a);\n",
              "      a.click();\n",
              "      div.remove();\n",
              "    }\n",
              "  "
            ],
            "text/plain": [
              "<IPython.core.display.Javascript object>"
            ]
          },
          "metadata": {
            "tags": []
          }
        },
        {
          "output_type": "display_data",
          "data": {
            "application/javascript": [
              "download(\"download_f25b2953-4465-4227-9065-c2a5a5727fe3\", \"submission.csv\", 15161)"
            ],
            "text/plain": [
              "<IPython.core.display.Javascript object>"
            ]
          },
          "metadata": {
            "tags": []
          }
        }
      ]
    },
    {
      "cell_type": "markdown",
      "metadata": {
        "id": "NohZiMIkO_tX"
      },
      "source": [
        "# **Well Done! 👍**\n",
        "You are all set to make a submission. Let's head to the **[challenge page](https://dphi.tech/challenges/pneumonia-classification-challenge-by-segmind/76/overview/about)** to make the submission."
      ]
    }
  ]
}